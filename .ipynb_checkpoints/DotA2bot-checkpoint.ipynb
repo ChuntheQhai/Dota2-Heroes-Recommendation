{
 "cells": [
  {
   "cell_type": "code",
   "execution_count": 24,
   "metadata": {
    "collapsed": false
   },
   "outputs": [],
   "source": [
    "import os, logging, argparse\n",
    "from dota2py import api\n",
    "from pymongo import MongoClient\n",
    "from time import sleep\n",
    "from sys import exit\n",
    "import env"
   ]
  },
  {
   "cell_type": "code",
   "execution_count": 22,
   "metadata": {
    "collapsed": true
   },
   "outputs": [],
   "source": [
    "os.environ['DOTABOT_API_KEY'] = \"6E83EFA8D7815C7747AADD786AA043E8\"\n"
   ]
  },
  {
   "cell_type": "code",
   "execution_count": null,
   "metadata": {
    "collapsed": false
   },
   "outputs": [],
   "source": []
  },
  {
   "cell_type": "code",
   "execution_count": 25,
   "metadata": {
    "collapsed": false
   },
   "outputs": [
    {
     "name": "stdout",
     "output_type": "stream",
     "text": [
      "haha2\n"
     ]
    }
   ],
   "source": [
    "print os.getenv('DOTABOT_DB_SERVER')"
   ]
  },
  {
   "cell_type": "code",
   "execution_count": 4,
   "metadata": {
    "collapsed": false
   },
   "outputs": [
    {
     "data": {
      "text/plain": [
       "Collection(Database(MongoClient(host=['localhost:27017'], document_class=dict, tz_aware=False, connect=True), u'dotabot'), u'matches')"
      ]
     },
     "execution_count": 4,
     "metadata": {},
     "output_type": "execute_result"
    }
   ],
   "source": [
    "client = MongoClient(os.getenv('DOTABOT_DB_SERVER','localhost'), 27017)\n",
    "db = client[os.getenv('DOTABOT_DB_NAME', 'dotabot')]\n",
    "match_collection = db.matches"
   ]
  },
  {
   "cell_type": "code",
   "execution_count": 6,
   "metadata": {
    "collapsed": true
   },
   "outputs": [],
   "source": [
    "logging.basicConfig(filename='log.txt')\n",
    "logger = logging.getLogger('dotabot')"
   ]
  },
  {
   "cell_type": "code",
   "execution_count": null,
   "metadata": {
    "collapsed": true
   },
   "outputs": [],
   "source": [
    "def setup():\n",
    "    \"\"\" Setup the API, etc.\"\"\"\n",
    "    logger.setLevel(logging.DEBUG)\n",
    "    \n",
    "    API_"
   ]
  }
 ],
 "metadata": {
  "kernelspec": {
   "display_name": "Python 2",
   "language": "python",
   "name": "python2"
  },
  "language_info": {
   "codemirror_mode": {
    "name": "ipython",
    "version": 2
   },
   "file_extension": ".py",
   "mimetype": "text/x-python",
   "name": "python",
   "nbconvert_exporter": "python",
   "pygments_lexer": "ipython2",
   "version": "2.7.10"
  }
 },
 "nbformat": 4,
 "nbformat_minor": 0
}
